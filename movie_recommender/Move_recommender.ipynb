{
 "cells": [
  {
   "cell_type": "code",
   "execution_count": 9,
   "id": "242e4a57",
   "metadata": {
    "tags": []
   },
   "outputs": [
    {
     "ename": "SyntaxError",
     "evalue": "invalid syntax (81543541.py, line 3)",
     "output_type": "error",
     "traceback": [
      "\u001b[1;36m  Cell \u001b[1;32mIn[9], line 3\u001b[1;36m\u001b[0m\n\u001b[1;33m    import scikit-learn\u001b[0m\n\u001b[1;37m                 ^\u001b[0m\n\u001b[1;31mSyntaxError\u001b[0m\u001b[1;31m:\u001b[0m invalid syntax\n"
     ]
    }
   ],
   "source": [
    "import numpy as np\n",
    "import pandas as pd\n",
    "import scikit-learn"
   ]
  },
  {
   "cell_type": "code",
   "execution_count": 10,
   "id": "24b926f3-7ca0-4ce4-9d72-fd1d92b5d21a",
   "metadata": {
    "tags": []
   },
   "outputs": [
    {
     "name": "stdout",
     "output_type": "stream",
     "text": [
      "Collecting scikit-learn\n",
      "  Downloading scikit_learn-1.2.2-cp310-cp310-win_amd64.whl (8.3 MB)\n",
      "     ---------------------------------------- 0.0/8.3 MB ? eta -:--:--\n",
      "     - -------------------------------------- 0.2/8.3 MB 4.8 MB/s eta 0:00:02\n",
      "     -- ------------------------------------- 0.5/8.3 MB 4.8 MB/s eta 0:00:02\n",
      "     -- ------------------------------------- 0.6/8.3 MB 4.8 MB/s eta 0:00:02\n",
      "     --- ------------------------------------ 0.8/8.3 MB 4.1 MB/s eta 0:00:02\n",
      "     ---- ----------------------------------- 1.0/8.3 MB 4.4 MB/s eta 0:00:02\n",
      "     ----- ---------------------------------- 1.2/8.3 MB 4.3 MB/s eta 0:00:02\n",
      "     ------- -------------------------------- 1.5/8.3 MB 4.5 MB/s eta 0:00:02\n",
      "     -------- ------------------------------- 1.7/8.3 MB 4.6 MB/s eta 0:00:02\n",
      "     --------- ------------------------------ 2.0/8.3 MB 4.6 MB/s eta 0:00:02\n",
      "     ---------- ----------------------------- 2.1/8.3 MB 4.5 MB/s eta 0:00:02\n",
      "     ---------- ----------------------------- 2.3/8.3 MB 4.4 MB/s eta 0:00:02\n",
      "     ----------- ---------------------------- 2.5/8.3 MB 4.4 MB/s eta 0:00:02\n",
      "     ------------ --------------------------- 2.6/8.3 MB 4.2 MB/s eta 0:00:02\n",
      "     ------------ --------------------------- 2.7/8.3 MB 4.2 MB/s eta 0:00:02\n",
      "     ------------- -------------------------- 2.9/8.3 MB 4.1 MB/s eta 0:00:02\n",
      "     -------------- ------------------------- 3.1/8.3 MB 4.1 MB/s eta 0:00:02\n",
      "     --------------- ------------------------ 3.3/8.3 MB 4.1 MB/s eta 0:00:02\n",
      "     ----------------- ---------------------- 3.5/8.3 MB 4.2 MB/s eta 0:00:02\n",
      "     ----------------- ---------------------- 3.7/8.3 MB 4.2 MB/s eta 0:00:02\n",
      "     ------------------ --------------------- 3.9/8.3 MB 4.2 MB/s eta 0:00:02\n",
      "     ------------------- -------------------- 4.1/8.3 MB 4.1 MB/s eta 0:00:02\n",
      "     -------------------- ------------------- 4.3/8.3 MB 4.1 MB/s eta 0:00:01\n",
      "     -------------------- ------------------- 4.4/8.3 MB 4.0 MB/s eta 0:00:01\n",
      "     --------------------- ------------------ 4.5/8.3 MB 4.0 MB/s eta 0:00:01\n",
      "     ---------------------- ----------------- 4.6/8.3 MB 3.9 MB/s eta 0:00:01\n",
      "     ----------------------- ---------------- 4.8/8.3 MB 3.9 MB/s eta 0:00:01\n",
      "     ------------------------ --------------- 5.0/8.3 MB 4.0 MB/s eta 0:00:01\n",
      "     ------------------------- -------------- 5.2/8.3 MB 4.0 MB/s eta 0:00:01\n",
      "     -------------------------- ------------- 5.4/8.3 MB 4.0 MB/s eta 0:00:01\n",
      "     --------------------------- ------------ 5.7/8.3 MB 4.0 MB/s eta 0:00:01\n",
      "     --------------------------- ------------ 5.8/8.3 MB 4.0 MB/s eta 0:00:01\n",
      "     ----------------------------- ---------- 6.0/8.3 MB 4.0 MB/s eta 0:00:01\n",
      "     ------------------------------ --------- 6.3/8.3 MB 4.0 MB/s eta 0:00:01\n",
      "     ------------------------------- -------- 6.5/8.3 MB 4.1 MB/s eta 0:00:01\n",
      "     -------------------------------- ------- 6.7/8.3 MB 4.1 MB/s eta 0:00:01\n",
      "     --------------------------------- ------ 6.9/8.3 MB 4.0 MB/s eta 0:00:01\n",
      "     ---------------------------------- ----- 7.1/8.3 MB 4.1 MB/s eta 0:00:01\n",
      "     ----------------------------------- ---- 7.3/8.3 MB 4.1 MB/s eta 0:00:01\n",
      "     ------------------------------------ --- 7.6/8.3 MB 4.1 MB/s eta 0:00:01\n",
      "     ------------------------------------- -- 7.8/8.3 MB 4.1 MB/s eta 0:00:01\n",
      "     ---------------------------------------  8.1/8.3 MB 4.2 MB/s eta 0:00:01\n",
      "     ---------------------------------------  8.2/8.3 MB 4.1 MB/s eta 0:00:01\n",
      "     ---------------------------------------  8.3/8.3 MB 4.1 MB/s eta 0:00:01\n",
      "     ---------------------------------------- 8.3/8.3 MB 4.0 MB/s eta 0:00:00\n",
      "Requirement already satisfied: joblib>=1.1.1 in c:\\users\\sinha\\appdata\\local\\programs\\python\\python310\\lib\\site-packages (from scikit-learn) (1.2.0)\n",
      "Requirement already satisfied: numpy>=1.17.3 in c:\\users\\sinha\\appdata\\local\\programs\\python\\python310\\lib\\site-packages (from scikit-learn) (1.24.2)\n",
      "Collecting scipy>=1.3.2\n",
      "  Downloading scipy-1.10.1-cp310-cp310-win_amd64.whl (42.5 MB)\n",
      "     ---------------------------------------- 0.0/42.5 MB ? eta -:--:--\n",
      "     ---------------------------------------- 0.2/42.5 MB 4.6 MB/s eta 0:00:10\n",
      "     ---------------------------------------- 0.4/42.5 MB 4.2 MB/s eta 0:00:10\n",
      "     ---------------------------------------- 0.5/42.5 MB 4.1 MB/s eta 0:00:11\n",
      "      --------------------------------------- 0.6/42.5 MB 3.2 MB/s eta 0:00:14\n",
      "      --------------------------------------- 0.7/42.5 MB 2.8 MB/s eta 0:00:15\n",
      "      --------------------------------------- 0.7/42.5 MB 2.7 MB/s eta 0:00:16\n",
      "      --------------------------------------- 0.8/42.5 MB 2.5 MB/s eta 0:00:17\n",
      "      --------------------------------------- 0.9/42.5 MB 2.3 MB/s eta 0:00:19\n",
      "      --------------------------------------- 0.9/42.5 MB 2.2 MB/s eta 0:00:20\n",
      "      --------------------------------------- 1.0/42.5 MB 2.1 MB/s eta 0:00:20\n",
      "     - -------------------------------------- 1.2/42.5 MB 2.4 MB/s eta 0:00:18\n",
      "     - -------------------------------------- 1.4/42.5 MB 2.4 MB/s eta 0:00:17\n",
      "     - -------------------------------------- 1.6/42.5 MB 2.6 MB/s eta 0:00:16\n",
      "     - -------------------------------------- 1.8/42.5 MB 2.8 MB/s eta 0:00:15\n",
      "     -- ------------------------------------- 2.2/42.5 MB 3.1 MB/s eta 0:00:14\n",
      "     -- ------------------------------------- 2.4/42.5 MB 3.2 MB/s eta 0:00:13\n",
      "     -- ------------------------------------- 2.8/42.5 MB 3.4 MB/s eta 0:00:12\n",
      "     -- ------------------------------------- 3.0/42.5 MB 3.5 MB/s eta 0:00:12\n",
      "     --- ------------------------------------ 3.2/42.5 MB 3.6 MB/s eta 0:00:11\n",
      "     --- ------------------------------------ 3.3/42.5 MB 3.6 MB/s eta 0:00:11\n",
      "     --- ------------------------------------ 3.4/42.5 MB 3.5 MB/s eta 0:00:12\n",
      "     --- ------------------------------------ 3.5/42.5 MB 3.4 MB/s eta 0:00:12\n",
      "     --- ------------------------------------ 3.5/42.5 MB 3.4 MB/s eta 0:00:12\n",
      "     --- ------------------------------------ 3.6/42.5 MB 3.2 MB/s eta 0:00:13\n",
      "     --- ------------------------------------ 3.7/42.5 MB 3.2 MB/s eta 0:00:13\n",
      "     --- ------------------------------------ 3.8/42.5 MB 3.1 MB/s eta 0:00:13\n",
      "     --- ------------------------------------ 4.1/42.5 MB 3.2 MB/s eta 0:00:12\n",
      "     ---- ----------------------------------- 4.3/42.5 MB 3.3 MB/s eta 0:00:12\n",
      "     ---- ----------------------------------- 4.5/42.5 MB 3.3 MB/s eta 0:00:12\n",
      "     ---- ----------------------------------- 4.8/42.5 MB 3.4 MB/s eta 0:00:11\n",
      "     ---- ----------------------------------- 5.0/42.5 MB 3.5 MB/s eta 0:00:11\n",
      "     ---- ----------------------------------- 5.2/42.5 MB 3.5 MB/s eta 0:00:11\n",
      "     ----- ---------------------------------- 5.4/42.5 MB 3.5 MB/s eta 0:00:11\n",
      "     ----- ---------------------------------- 5.5/42.5 MB 3.4 MB/s eta 0:00:11\n",
      "     ----- ---------------------------------- 5.6/42.5 MB 3.4 MB/s eta 0:00:11\n",
      "     ----- ---------------------------------- 5.7/42.5 MB 3.4 MB/s eta 0:00:11\n",
      "     ----- ---------------------------------- 5.8/42.5 MB 3.4 MB/s eta 0:00:11\n",
      "     ----- ---------------------------------- 6.0/42.5 MB 3.4 MB/s eta 0:00:11\n",
      "     ----- ---------------------------------- 6.3/42.5 MB 3.5 MB/s eta 0:00:11\n",
      "     ------ --------------------------------- 6.7/42.5 MB 3.5 MB/s eta 0:00:11\n",
      "     ------ --------------------------------- 6.9/42.5 MB 3.6 MB/s eta 0:00:10\n",
      "     ------ --------------------------------- 7.3/42.5 MB 3.7 MB/s eta 0:00:10\n",
      "     ------- -------------------------------- 7.6/42.5 MB 3.8 MB/s eta 0:00:10\n",
      "     ------- -------------------------------- 7.9/42.5 MB 3.8 MB/s eta 0:00:10\n",
      "     ------- -------------------------------- 8.2/42.5 MB 3.9 MB/s eta 0:00:09\n",
      "     ------- -------------------------------- 8.5/42.5 MB 3.9 MB/s eta 0:00:09\n",
      "     -------- ------------------------------- 8.8/42.5 MB 4.0 MB/s eta 0:00:09\n",
      "     -------- ------------------------------- 9.1/42.5 MB 4.0 MB/s eta 0:00:09\n",
      "     -------- ------------------------------- 9.3/42.5 MB 4.0 MB/s eta 0:00:09\n",
      "     -------- ------------------------------- 9.5/42.5 MB 4.1 MB/s eta 0:00:09\n",
      "     --------- ------------------------------ 9.6/42.5 MB 4.0 MB/s eta 0:00:09\n",
      "     --------- ------------------------------ 9.9/42.5 MB 4.1 MB/s eta 0:00:09\n",
      "     --------- ------------------------------ 10.2/42.5 MB 4.1 MB/s eta 0:00:08\n",
      "     --------- ------------------------------ 10.5/42.5 MB 4.1 MB/s eta 0:00:08\n",
      "     ---------- ----------------------------- 10.7/42.5 MB 4.2 MB/s eta 0:00:08\n",
      "     ---------- ----------------------------- 11.1/42.5 MB 4.6 MB/s eta 0:00:07\n",
      "     ---------- ----------------------------- 11.5/42.5 MB 4.7 MB/s eta 0:00:07\n",
      "     ----------- ---------------------------- 11.8/42.5 MB 4.8 MB/s eta 0:00:07\n",
      "     ----------- ---------------------------- 12.1/42.5 MB 4.9 MB/s eta 0:00:07\n",
      "     ----------- ---------------------------- 12.3/42.5 MB 4.8 MB/s eta 0:00:07\n",
      "     ----------- ---------------------------- 12.7/42.5 MB 4.9 MB/s eta 0:00:07\n",
      "     ------------ --------------------------- 12.9/42.5 MB 4.9 MB/s eta 0:00:07\n",
      "     ------------ --------------------------- 13.3/42.5 MB 4.9 MB/s eta 0:00:06\n",
      "     ------------ --------------------------- 13.4/42.5 MB 4.9 MB/s eta 0:00:06\n",
      "     ------------ --------------------------- 13.5/42.5 MB 4.8 MB/s eta 0:00:07\n",
      "     ------------- -------------------------- 13.8/42.5 MB 5.2 MB/s eta 0:00:06\n",
      "     ------------- -------------------------- 14.1/42.5 MB 5.4 MB/s eta 0:00:06\n",
      "     ------------- -------------------------- 14.3/42.5 MB 5.3 MB/s eta 0:00:06\n",
      "     ------------- -------------------------- 14.6/42.5 MB 5.3 MB/s eta 0:00:06\n",
      "     ------------- -------------------------- 14.8/42.5 MB 5.3 MB/s eta 0:00:06\n",
      "     -------------- ------------------------- 15.1/42.5 MB 5.3 MB/s eta 0:00:06\n",
      "     -------------- ------------------------- 15.3/42.5 MB 5.4 MB/s eta 0:00:06\n",
      "     -------------- ------------------------- 15.6/42.5 MB 5.5 MB/s eta 0:00:05\n",
      "     --------------- ------------------------ 16.0/42.5 MB 5.8 MB/s eta 0:00:05\n",
      "     --------------- ------------------------ 16.2/42.5 MB 5.8 MB/s eta 0:00:05\n",
      "     --------------- ------------------------ 16.5/42.5 MB 5.8 MB/s eta 0:00:05\n",
      "     --------------- ------------------------ 16.8/42.5 MB 5.8 MB/s eta 0:00:05\n",
      "     ---------------- ----------------------- 17.0/42.5 MB 5.8 MB/s eta 0:00:05\n",
      "     ---------------- ----------------------- 17.3/42.5 MB 5.7 MB/s eta 0:00:05\n",
      "     ---------------- ----------------------- 17.4/42.5 MB 5.6 MB/s eta 0:00:05\n",
      "     ---------------- ----------------------- 17.6/42.5 MB 5.6 MB/s eta 0:00:05\n",
      "     ---------------- ----------------------- 17.8/42.5 MB 5.6 MB/s eta 0:00:05\n",
      "     ----------------- ---------------------- 18.1/42.5 MB 5.6 MB/s eta 0:00:05\n",
      "     ----------------- ---------------------- 18.4/42.5 MB 5.5 MB/s eta 0:00:05\n",
      "     ----------------- ---------------------- 18.6/42.5 MB 5.5 MB/s eta 0:00:05\n",
      "     ----------------- ---------------------- 18.9/42.5 MB 5.5 MB/s eta 0:00:05\n",
      "     ------------------ --------------------- 19.2/42.5 MB 5.5 MB/s eta 0:00:05\n",
      "     ------------------ --------------------- 19.5/42.5 MB 5.6 MB/s eta 0:00:05\n",
      "     ------------------ --------------------- 19.9/42.5 MB 5.7 MB/s eta 0:00:04\n",
      "     ------------------- -------------------- 20.2/42.5 MB 5.7 MB/s eta 0:00:04\n",
      "     ------------------- -------------------- 20.5/42.5 MB 5.7 MB/s eta 0:00:04\n",
      "     ------------------- -------------------- 20.7/42.5 MB 5.7 MB/s eta 0:00:04\n",
      "     ------------------- -------------------- 20.7/42.5 MB 5.6 MB/s eta 0:00:04\n",
      "     ------------------- -------------------- 21.0/42.5 MB 5.6 MB/s eta 0:00:04\n",
      "     -------------------- ------------------- 21.3/42.5 MB 5.5 MB/s eta 0:00:04\n",
      "     -------------------- ------------------- 21.4/42.5 MB 5.5 MB/s eta 0:00:04\n",
      "     -------------------- ------------------- 21.6/42.5 MB 5.4 MB/s eta 0:00:04\n",
      "     -------------------- ------------------- 21.9/42.5 MB 5.5 MB/s eta 0:00:04\n",
      "     -------------------- ------------------- 22.2/42.5 MB 5.4 MB/s eta 0:00:04\n",
      "     --------------------- ------------------ 22.4/42.5 MB 5.4 MB/s eta 0:00:04\n",
      "     --------------------- ------------------ 22.7/42.5 MB 5.4 MB/s eta 0:00:04\n",
      "     --------------------- ------------------ 23.0/42.5 MB 5.4 MB/s eta 0:00:04\n",
      "     --------------------- ------------------ 23.3/42.5 MB 5.4 MB/s eta 0:00:04\n",
      "     ---------------------- ----------------- 23.6/42.5 MB 5.4 MB/s eta 0:00:04\n",
      "     ---------------------- ----------------- 23.8/42.5 MB 5.5 MB/s eta 0:00:04\n",
      "     ---------------------- ----------------- 24.0/42.5 MB 5.5 MB/s eta 0:00:04\n",
      "     ---------------------- ----------------- 24.2/42.5 MB 5.5 MB/s eta 0:00:04\n",
      "     ----------------------- ---------------- 24.5/42.5 MB 5.5 MB/s eta 0:00:04\n",
      "     ----------------------- ---------------- 24.7/42.5 MB 5.5 MB/s eta 0:00:04\n",
      "     ----------------------- ---------------- 24.8/42.5 MB 5.4 MB/s eta 0:00:04\n",
      "     ----------------------- ---------------- 25.1/42.5 MB 5.4 MB/s eta 0:00:04\n",
      "     ----------------------- ---------------- 25.3/42.5 MB 5.4 MB/s eta 0:00:04\n",
      "     ------------------------ --------------- 25.6/42.5 MB 5.4 MB/s eta 0:00:04\n",
      "     ------------------------ --------------- 25.9/42.5 MB 5.4 MB/s eta 0:00:04\n",
      "     ------------------------ --------------- 26.2/42.5 MB 5.5 MB/s eta 0:00:03\n",
      "     ------------------------ --------------- 26.5/42.5 MB 5.5 MB/s eta 0:00:03\n",
      "     ------------------------- -------------- 26.6/42.5 MB 5.5 MB/s eta 0:00:03\n",
      "     ------------------------- -------------- 26.8/42.5 MB 5.4 MB/s eta 0:00:03\n",
      "     ------------------------- -------------- 27.0/42.5 MB 5.4 MB/s eta 0:00:03\n",
      "     ------------------------- -------------- 27.1/42.5 MB 5.3 MB/s eta 0:00:03\n",
      "     ------------------------- -------------- 27.3/42.5 MB 5.2 MB/s eta 0:00:03\n",
      "     -------------------------- ------------- 27.7/42.5 MB 5.4 MB/s eta 0:00:03\n",
      "     -------------------------- ------------- 27.9/42.5 MB 5.4 MB/s eta 0:00:03\n",
      "     -------------------------- ------------- 28.1/42.5 MB 5.4 MB/s eta 0:00:03\n",
      "     -------------------------- ------------- 28.4/42.5 MB 5.4 MB/s eta 0:00:03\n",
      "     -------------------------- ------------- 28.5/42.5 MB 5.3 MB/s eta 0:00:03\n",
      "     --------------------------- ------------ 28.7/42.5 MB 5.3 MB/s eta 0:00:03\n",
      "     --------------------------- ------------ 28.8/42.5 MB 5.2 MB/s eta 0:00:03\n",
      "     --------------------------- ------------ 29.1/42.5 MB 5.2 MB/s eta 0:00:03\n",
      "     --------------------------- ------------ 29.3/42.5 MB 5.2 MB/s eta 0:00:03\n",
      "     --------------------------- ------------ 29.5/42.5 MB 5.2 MB/s eta 0:00:03\n",
      "     ---------------------------- ----------- 29.7/42.5 MB 5.1 MB/s eta 0:00:03\n",
      "     ---------------------------- ----------- 30.0/42.5 MB 5.1 MB/s eta 0:00:03\n",
      "     ---------------------------- ----------- 30.2/42.5 MB 5.0 MB/s eta 0:00:03\n",
      "     ---------------------------- ----------- 30.2/42.5 MB 5.0 MB/s eta 0:00:03\n",
      "     ---------------------------- ----------- 30.2/42.5 MB 5.0 MB/s eta 0:00:03\n",
      "     ---------------------------- ----------- 30.3/42.5 MB 4.7 MB/s eta 0:00:03\n",
      "     ---------------------------- ----------- 30.5/42.5 MB 4.6 MB/s eta 0:00:03\n",
      "     ---------------------------- ----------- 30.7/42.5 MB 4.6 MB/s eta 0:00:03\n",
      "     ----------------------------- ---------- 30.9/42.5 MB 4.6 MB/s eta 0:00:03\n",
      "     ----------------------------- ---------- 31.0/42.5 MB 4.7 MB/s eta 0:00:03\n",
      "     ----------------------------- ---------- 31.2/42.5 MB 4.6 MB/s eta 0:00:03\n",
      "     ----------------------------- ---------- 31.5/42.5 MB 4.7 MB/s eta 0:00:03\n",
      "     ------------------------------ --------- 31.9/42.5 MB 4.8 MB/s eta 0:00:03\n",
      "     ------------------------------ --------- 32.2/42.5 MB 4.7 MB/s eta 0:00:03\n",
      "     ------------------------------ --------- 32.5/42.5 MB 4.8 MB/s eta 0:00:03\n",
      "     ------------------------------ --------- 32.8/42.5 MB 4.8 MB/s eta 0:00:03\n",
      "     ------------------------------- -------- 33.1/42.5 MB 4.8 MB/s eta 0:00:02\n",
      "     ------------------------------- -------- 33.4/42.5 MB 4.7 MB/s eta 0:00:02\n",
      "     ------------------------------- -------- 33.5/42.5 MB 4.8 MB/s eta 0:00:02\n",
      "     ------------------------------- -------- 33.5/42.5 MB 4.8 MB/s eta 0:00:02\n",
      "     ------------------------------- -------- 33.6/42.5 MB 4.6 MB/s eta 0:00:02\n",
      "     ------------------------------- -------- 33.7/42.5 MB 4.5 MB/s eta 0:00:02\n",
      "     ------------------------------- -------- 33.8/42.5 MB 4.4 MB/s eta 0:00:02\n",
      "     -------------------------------- ------- 34.1/42.5 MB 4.5 MB/s eta 0:00:02\n",
      "     -------------------------------- ------- 34.3/42.5 MB 4.5 MB/s eta 0:00:02\n",
      "     -------------------------------- ------- 34.5/42.5 MB 4.4 MB/s eta 0:00:02\n",
      "     -------------------------------- ------- 34.7/42.5 MB 4.4 MB/s eta 0:00:02\n",
      "     -------------------------------- ------- 34.9/42.5 MB 4.5 MB/s eta 0:00:02\n",
      "     --------------------------------- ------ 35.2/42.5 MB 4.5 MB/s eta 0:00:02\n",
      "     --------------------------------- ------ 35.4/42.5 MB 4.5 MB/s eta 0:00:02\n",
      "     --------------------------------- ------ 35.7/42.5 MB 4.5 MB/s eta 0:00:02\n",
      "     --------------------------------- ------ 35.9/42.5 MB 4.4 MB/s eta 0:00:02\n",
      "     ---------------------------------- ----- 36.3/42.5 MB 4.5 MB/s eta 0:00:02\n",
      "     ---------------------------------- ----- 36.5/42.5 MB 4.4 MB/s eta 0:00:02\n",
      "     ---------------------------------- ----- 36.8/42.5 MB 4.4 MB/s eta 0:00:02\n",
      "     ----------------------------------- ---- 37.2/42.5 MB 4.5 MB/s eta 0:00:02\n",
      "     ----------------------------------- ---- 37.3/42.5 MB 4.5 MB/s eta 0:00:02\n",
      "     ----------------------------------- ---- 37.6/42.5 MB 4.5 MB/s eta 0:00:02\n",
      "     ----------------------------------- ---- 37.9/42.5 MB 4.5 MB/s eta 0:00:02\n",
      "     ----------------------------------- ---- 38.2/42.5 MB 4.6 MB/s eta 0:00:01\n",
      "     ------------------------------------ --- 38.6/42.5 MB 4.6 MB/s eta 0:00:01\n",
      "     ------------------------------------ --- 38.9/42.5 MB 4.7 MB/s eta 0:00:01\n",
      "     ------------------------------------ --- 39.2/42.5 MB 4.8 MB/s eta 0:00:01\n",
      "     ------------------------------------- -- 39.5/42.5 MB 4.9 MB/s eta 0:00:01\n",
      "     ------------------------------------- -- 39.8/42.5 MB 4.9 MB/s eta 0:00:01\n",
      "     ------------------------------------- -- 40.1/42.5 MB 4.9 MB/s eta 0:00:01\n",
      "     -------------------------------------- - 40.4/42.5 MB 4.9 MB/s eta 0:00:01\n",
      "     -------------------------------------- - 40.7/42.5 MB 5.4 MB/s eta 0:00:01\n",
      "     -------------------------------------- - 41.0/42.5 MB 5.4 MB/s eta 0:00:01\n",
      "     -------------------------------------- - 41.1/42.5 MB 5.3 MB/s eta 0:00:01\n",
      "     ---------------------------------------  41.5/42.5 MB 5.5 MB/s eta 0:00:01\n",
      "     ---------------------------------------  41.8/42.5 MB 5.5 MB/s eta 0:00:01\n",
      "     ---------------------------------------  42.1/42.5 MB 5.5 MB/s eta 0:00:01\n",
      "     ---------------------------------------  42.4/42.5 MB 5.5 MB/s eta 0:00:01\n",
      "     ---------------------------------------  42.5/42.5 MB 5.5 MB/s eta 0:00:01\n",
      "     ---------------------------------------  42.5/42.5 MB 5.5 MB/s eta 0:00:01\n",
      "     ---------------------------------------  42.5/42.5 MB 5.5 MB/s eta 0:00:01\n",
      "     ---------------------------------------- 42.5/42.5 MB 5.1 MB/s eta 0:00:00\n",
      "Collecting threadpoolctl>=2.0.0\n",
      "  Downloading threadpoolctl-3.1.0-py3-none-any.whl (14 kB)\n",
      "Installing collected packages: threadpoolctl, scipy, scikit-learn\n",
      "Successfully installed scikit-learn-1.2.2 scipy-1.10.1 threadpoolctl-3.1.0\n",
      "Note: you may need to restart the kernel to use updated packages.\n"
     ]
    }
   ],
   "source": [
    "pip install scikit-learn\n"
   ]
  },
  {
   "cell_type": "code",
   "execution_count": null,
   "id": "afb82320",
   "metadata": {
    "tags": []
   },
   "outputs": [],
   "source": [
    "credits = pd.read_csv(\"tmdb_5000_credits.csv\")\n",
    "movies = pd.read_csv(\"tmdb_5000_movies.csv\")"
   ]
  },
  {
   "cell_type": "code",
   "execution_count": null,
   "id": "005a7f9f",
   "metadata": {
    "tags": []
   },
   "outputs": [],
   "source": [
    "movies.info()\n",
    "credits.info()"
   ]
  },
  {
   "cell_type": "code",
   "execution_count": null,
   "id": "dad97a05",
   "metadata": {
    "tags": []
   },
   "outputs": [],
   "source": [
    "movies.head(1)\n",
    "credits.head(1)"
   ]
  },
  {
   "cell_type": "code",
   "execution_count": null,
   "id": "7d21b3cd",
   "metadata": {
    "tags": []
   },
   "outputs": [],
   "source": [
    "movies  = movies.merge(credits,on=\"title\")"
   ]
  },
  {
   "cell_type": "code",
   "execution_count": null,
   "id": "d149adb3",
   "metadata": {
    "tags": []
   },
   "outputs": [],
   "source": [
    "movies.shape"
   ]
  },
  {
   "cell_type": "code",
   "execution_count": null,
   "id": "cd7a5ec6",
   "metadata": {},
   "outputs": [],
   "source": [
    "# not importanat\n",
    "# budget\n",
    "# homepage\n",
    "# id\n",
    "# original_language\n",
    "# original_title\n",
    "# popularity\n",
    "# production_comapny\n",
    "# production_countries\n",
    "# release-date(not sure)"
   ]
  },
  {
   "cell_type": "code",
   "execution_count": null,
   "id": "0a602af5",
   "metadata": {
    "tags": []
   },
   "outputs": [],
   "source": [
    "movies = movies[['movie_id','title','overview','genres','keywords','cast','crew']]"
   ]
  },
  {
   "cell_type": "code",
   "execution_count": null,
   "id": "065edf76",
   "metadata": {
    "tags": []
   },
   "outputs": [],
   "source": [
    "movies.shape"
   ]
  },
  {
   "cell_type": "code",
   "execution_count": null,
   "id": "30267cc2",
   "metadata": {
    "tags": []
   },
   "outputs": [],
   "source": [
    "movies.isnull().sum()"
   ]
  },
  {
   "cell_type": "code",
   "execution_count": null,
   "id": "ca6a2ea3",
   "metadata": {
    "tags": []
   },
   "outputs": [],
   "source": [
    "movies.duplicated().sum()"
   ]
  },
  {
   "cell_type": "code",
   "execution_count": null,
   "id": "3fb14f84",
   "metadata": {
    "tags": []
   },
   "outputs": [],
   "source": [
    "movies.iloc[0].genres"
   ]
  },
  {
   "cell_type": "code",
   "execution_count": null,
   "id": "7079ba9d",
   "metadata": {},
   "outputs": [],
   "source": []
  },
  {
   "cell_type": "code",
   "execution_count": null,
   "id": "6e990ef0",
   "metadata": {
    "tags": []
   },
   "outputs": [],
   "source": [
    "movies['genres'].head(1)"
   ]
  },
  {
   "cell_type": "code",
   "execution_count": null,
   "id": "cf2363d2",
   "metadata": {
    "tags": []
   },
   "outputs": [],
   "source": [
    "def convert(text):\n",
    "    L = []\n",
    "    for i in ast.literal_eval(text):\n",
    "        L.append(i['name']) \n",
    "    return L"
   ]
  },
  {
   "cell_type": "code",
   "execution_count": null,
   "id": "403b1f19",
   "metadata": {
    "tags": []
   },
   "outputs": [],
   "source": [
    "import ast"
   ]
  },
  {
   "cell_type": "code",
   "execution_count": null,
   "id": "559730df",
   "metadata": {
    "tags": []
   },
   "outputs": [],
   "source": [
    "movies.isna().count()"
   ]
  },
  {
   "cell_type": "code",
   "execution_count": null,
   "id": "284089f9",
   "metadata": {
    "tags": []
   },
   "outputs": [],
   "source": [
    "movies.dropna(inplace = True)"
   ]
  },
  {
   "cell_type": "code",
   "execution_count": null,
   "id": "783ffdc8",
   "metadata": {
    "tags": []
   },
   "outputs": [],
   "source": [
    "movies['genres'] = movies['genres'].apply(convert)"
   ]
  },
  {
   "cell_type": "code",
   "execution_count": null,
   "id": "f46387be",
   "metadata": {
    "tags": []
   },
   "outputs": [],
   "source": [
    "movies['genres']"
   ]
  },
  {
   "cell_type": "code",
   "execution_count": null,
   "id": "91713c79",
   "metadata": {
    "tags": []
   },
   "outputs": [],
   "source": [
    "movies['keywords'] = movies['keywords'].apply(convert)"
   ]
  },
  {
   "cell_type": "code",
   "execution_count": null,
   "id": "2f2e0289",
   "metadata": {
    "tags": []
   },
   "outputs": [],
   "source": [
    "movies.head()"
   ]
  },
  {
   "cell_type": "code",
   "execution_count": null,
   "id": "86060d3e",
   "metadata": {
    "tags": []
   },
   "outputs": [],
   "source": [
    "# movies['cast'][0]"
   ]
  },
  {
   "cell_type": "code",
   "execution_count": null,
   "id": "ba3aa433",
   "metadata": {
    "tags": []
   },
   "outputs": [],
   "source": [
    "def convert2(obj):\n",
    "    l = []\n",
    "    counter = 0\n",
    "    for i in ast.literal_eval(obj):\n",
    "        if counter < 3:\n",
    "            l.append(i['name'])\n",
    "            counter += 1\n",
    "        else:\n",
    "            break\n",
    "    return l"
   ]
  },
  {
   "cell_type": "code",
   "execution_count": null,
   "id": "4045de96",
   "metadata": {
    "tags": []
   },
   "outputs": [],
   "source": [
    "convert2(movies['cast'][0])"
   ]
  },
  {
   "cell_type": "code",
   "execution_count": null,
   "id": "1e11220f",
   "metadata": {
    "tags": []
   },
   "outputs": [],
   "source": [
    "movies['cast'] = movies['cast'].apply(convert2)"
   ]
  },
  {
   "cell_type": "code",
   "execution_count": null,
   "id": "ab1e039e",
   "metadata": {
    "tags": []
   },
   "outputs": [],
   "source": [
    "# movies['crew'][0]"
   ]
  },
  {
   "cell_type": "code",
   "execution_count": null,
   "id": "431eb04d",
   "metadata": {
    "tags": []
   },
   "outputs": [],
   "source": [
    "def fetch_director(obj):\n",
    "    l = []\n",
    "    for i in ast.literal_eval(obj):\n",
    "        if i['job'] == 'Director':\n",
    "            l.append(i['name'])\n",
    "            break\n",
    "    return l"
   ]
  },
  {
   "cell_type": "code",
   "execution_count": null,
   "id": "4c88989b",
   "metadata": {
    "tags": []
   },
   "outputs": [],
   "source": [
    "fetch_director(movies['crew'][0])"
   ]
  },
  {
   "cell_type": "code",
   "execution_count": null,
   "id": "ef37fa3f",
   "metadata": {
    "tags": []
   },
   "outputs": [],
   "source": [
    "movies['crew'] = movies['crew'].apply(fetch_director)"
   ]
  },
  {
   "cell_type": "code",
   "execution_count": null,
   "id": "de875e84",
   "metadata": {
    "tags": []
   },
   "outputs": [],
   "source": [
    "movies.head(1)"
   ]
  },
  {
   "cell_type": "code",
   "execution_count": null,
   "id": "254a9bc2",
   "metadata": {
    "tags": []
   },
   "outputs": [],
   "source": [
    "movies['overview'] = movies['overview'].apply(lambda x : x.split())"
   ]
  },
  {
   "cell_type": "code",
   "execution_count": null,
   "id": "1dafbb05",
   "metadata": {
    "tags": []
   },
   "outputs": [],
   "source": [
    "movies['genres'] = movies['genres'].apply(lambda x: [i.replace(\" \",\"\") for i in x])\n",
    "movies['crew'] = movies['crew'].apply(lambda x: [i.replace(\" \",\"\") for i in x])\n",
    "movies['keywords'] = movies['keywords'].apply(lambda x: [i.replace(\" \",\"\") for i in x])\n",
    "movies['cast'] = movies['cast'].apply(lambda x: [i.replace(\" \",\"\") for i in x])\n"
   ]
  },
  {
   "cell_type": "code",
   "execution_count": null,
   "id": "780c87f5",
   "metadata": {
    "tags": []
   },
   "outputs": [],
   "source": [
    "movies.head(1)"
   ]
  },
  {
   "cell_type": "code",
   "execution_count": null,
   "id": "64634e81",
   "metadata": {
    "tags": []
   },
   "outputs": [],
   "source": [
    "movies['tags'] = movies['overview'] + movies['genres'] + movies['keywords'] + movies['cast'] + movies['crew']"
   ]
  },
  {
   "cell_type": "code",
   "execution_count": null,
   "id": "545006a7",
   "metadata": {
    "tags": []
   },
   "outputs": [],
   "source": [
    "movies.head(1)"
   ]
  },
  {
   "cell_type": "code",
   "execution_count": null,
   "id": "ab1660d5",
   "metadata": {
    "tags": []
   },
   "outputs": [],
   "source": [
    "# movies['tags'][0]"
   ]
  },
  {
   "cell_type": "code",
   "execution_count": null,
   "id": "412e3b13",
   "metadata": {
    "tags": []
   },
   "outputs": [],
   "source": [
    "new_df = movies[['movie_id','title','tags']]"
   ]
  },
  {
   "cell_type": "code",
   "execution_count": null,
   "id": "dbca6b3f",
   "metadata": {
    "tags": []
   },
   "outputs": [],
   "source": [
    "new_df"
   ]
  },
  {
   "cell_type": "code",
   "execution_count": null,
   "id": "21ab8781",
   "metadata": {
    "tags": []
   },
   "outputs": [],
   "source": [
    "new_df['tags'] = new_df['tags'].apply(lambda x: \" \".join(x))"
   ]
  },
  {
   "cell_type": "code",
   "execution_count": null,
   "id": "9da945f7",
   "metadata": {
    "tags": []
   },
   "outputs": [],
   "source": [
    "new_df['tags'][0]"
   ]
  },
  {
   "cell_type": "code",
   "execution_count": null,
   "id": "702910d5",
   "metadata": {
    "tags": []
   },
   "outputs": [],
   "source": [
    "import nltk"
   ]
  },
  {
   "cell_type": "code",
   "execution_count": null,
   "id": "efb040bf",
   "metadata": {
    "tags": []
   },
   "outputs": [],
   "source": [
    "from nltk.stem.porter import PorterStemmer\n",
    "ps = PorterStemmer()"
   ]
  },
  {
   "cell_type": "code",
   "execution_count": null,
   "id": "bbc65872",
   "metadata": {
    "tags": []
   },
   "outputs": [],
   "source": [
    "def stem(text):\n",
    "    y = []\n",
    "    for i in text.split():\n",
    "        y.append(ps.stem(i))\n",
    "    return \" \".join(y)"
   ]
  },
  {
   "cell_type": "code",
   "execution_count": null,
   "id": "1c33c1ac",
   "metadata": {
    "tags": []
   },
   "outputs": [],
   "source": [
    "stem(\"In the 22nd century, a paraplegic Marine is dispatched to the moon Pandora on a unique mission, but becomes torn between following orders and protecting an alien civilization. Action Adventure Fantasy ScienceFiction cultureclash future spacewar spacecolony society spacetravel futuristic romance space alien tribe alienplanet cgi marine soldier battle loveaffair antiwar powerrelations mindandsoul 3d SamWorthington ZoeSaldana SigourneyWeaver JamesCameron'\")"
   ]
  },
  {
   "cell_type": "code",
   "execution_count": null,
   "id": "dd468d4b",
   "metadata": {
    "tags": []
   },
   "outputs": [],
   "source": [
    "new_df['tags'] = new_df['tags'].apply(stem)"
   ]
  },
  {
   "cell_type": "code",
   "execution_count": null,
   "id": "a0c0fa65",
   "metadata": {
    "tags": []
   },
   "outputs": [],
   "source": [
    "new_df['tags'] = new_df['tags'].apply(lambda x : x.lower())"
   ]
  },
  {
   "cell_type": "code",
   "execution_count": 5,
   "id": "f6edd52d",
   "metadata": {
    "tags": []
   },
   "outputs": [
    {
     "name": "stdout",
     "output_type": "stream",
     "text": [
      "Requirement already satisfied: pip in c:\\users\\sinha\\appdata\\local\\programs\\python\\python310\\lib\\site-packages (22.3.1)\n",
      "Collecting pip\n",
      "  Downloading pip-23.0.1-py3-none-any.whl (2.1 MB)\n",
      "     ---------------------------------------- 2.1/2.1 MB 4.0 MB/s eta 0:00:00\n",
      "Installing collected packages: pip\n",
      "  Attempting uninstall: pip\n",
      "    Found existing installation: pip 22.3.1\n",
      "    Uninstalling pip-22.3.1:\n",
      "      Successfully uninstalled pip-22.3.1\n",
      "Successfully installed pip-23.0.1\n",
      "Note: you may need to restart the kernel to use updated packages.\n"
     ]
    }
   ],
   "source": [
    "pip install --upgrade pip"
   ]
  },
  {
   "cell_type": "code",
   "execution_count": null,
   "id": "ec5a14cd",
   "metadata": {
    "tags": []
   },
   "outputs": [],
   "source": [
    "new_df"
   ]
  },
  {
   "cell_type": "code",
   "execution_count": null,
   "id": "54dab711",
   "metadata": {
    "tags": []
   },
   "outputs": [],
   "source": [
    "from sklearn.feature_extraction.text import CountVectorizer\n",
    "cv = CountVectorizer(max_features = 5000 ,stop_words = \"english\")"
   ]
  },
  {
   "cell_type": "code",
   "execution_count": null,
   "id": "fde08623",
   "metadata": {},
   "outputs": [],
   "source": [
    "vectors = cv.fit_transform(new_df['tags']).toarray()"
   ]
  },
  {
   "cell_type": "code",
   "execution_count": null,
   "id": "0119bd36",
   "metadata": {
    "tags": []
   },
   "outputs": [],
   "source": [
    "cv.get_feature_names()"
   ]
  },
  {
   "cell_type": "code",
   "execution_count": null,
   "id": "9d7055a7",
   "metadata": {},
   "outputs": [],
   "source": [
    "vectors"
   ]
  },
  {
   "cell_type": "code",
   "execution_count": null,
   "id": "d82a9f31",
   "metadata": {},
   "outputs": [],
   "source": [
    "from sklearn.metrics.pairwise import cosine_similarity"
   ]
  },
  {
   "cell_type": "code",
   "execution_count": null,
   "id": "b4ee35f5",
   "metadata": {},
   "outputs": [],
   "source": [
    "similarity = cosine_similarity(vectors)"
   ]
  },
  {
   "cell_type": "code",
   "execution_count": null,
   "id": "502952ba",
   "metadata": {},
   "outputs": [],
   "source": [
    "new_df[new_df['title'] == 'Batman Begins'].index[0]"
   ]
  },
  {
   "cell_type": "code",
   "execution_count": null,
   "id": "0030a874",
   "metadata": {},
   "outputs": [],
   "source": [
    "sorted(list(enumerate(similarity[0])),reverse = True, key = lambda x: x[1])[1:6]"
   ]
  },
  {
   "cell_type": "code",
   "execution_count": null,
   "id": "3f455972",
   "metadata": {},
   "outputs": [],
   "source": [
    "def recommend(movie):\n",
    "    movie_index = new_df[new_df['title'] == movie].index[0]\n",
    "    distances = similarity[movie_index]\n",
    "    movie_list = sorted(list(enumerate(distances)),reverse = True, key = lambda x: x[1])[1:6]\n",
    "    for i in movie_list:\n",
    "        print(new_df.iloc[i[0]]['title'])\n",
    "    "
   ]
  },
  {
   "cell_type": "code",
   "execution_count": null,
   "id": "4630a7bd",
   "metadata": {
    "tags": []
   },
   "outputs": [],
   "source": [
    "recommend('Avatar')"
   ]
  },
  {
   "cell_type": "code",
   "execution_count": null,
   "id": "6f804ebe",
   "metadata": {},
   "outputs": [],
   "source": [
    "print(new_df.iloc[1216]['title'])"
   ]
  },
  {
   "cell_type": "code",
   "execution_count": null,
   "id": "1d9b22ba",
   "metadata": {},
   "outputs": [],
   "source": [
    "new_df.iloc[1216]['title']"
   ]
  },
  {
   "cell_type": "code",
   "execution_count": null,
   "id": "56264013",
   "metadata": {},
   "outputs": [],
   "source": [
    "recommend('Batman')"
   ]
  },
  {
   "cell_type": "code",
   "execution_count": null,
   "id": "97e9ad7c",
   "metadata": {},
   "outputs": [],
   "source": []
  },
  {
   "cell_type": "code",
   "execution_count": null,
   "id": "d0e0bf0b",
   "metadata": {},
   "outputs": [],
   "source": [
    "# recommend('superman')"
   ]
  },
  {
   "cell_type": "code",
   "execution_count": null,
   "id": "612f1018",
   "metadata": {},
   "outputs": [],
   "source": [
    "import pickle"
   ]
  },
  {
   "cell_type": "code",
   "execution_count": null,
   "id": "d6c711e7",
   "metadata": {},
   "outputs": [],
   "source": [
    "pickle.dump(new_df.to_dict(),open('movies_dict2121.pkl','wb'))"
   ]
  },
  {
   "cell_type": "code",
   "execution_count": null,
   "id": "03d7980a",
   "metadata": {
    "tags": []
   },
   "outputs": [],
   "source": [
    "# new_df.to_dict()"
   ]
  },
  {
   "cell_type": "code",
   "execution_count": null,
   "id": "4a55d000",
   "metadata": {},
   "outputs": [],
   "source": [
    "pickle.dump(similarity,open('similarity.pkl','wb'))"
   ]
  },
  {
   "cell_type": "code",
   "execution_count": null,
   "id": "34e6da35",
   "metadata": {},
   "outputs": [],
   "source": []
  }
 ],
 "metadata": {
  "kernelspec": {
   "display_name": "Python 3 (ipykernel)",
   "language": "python",
   "name": "python3"
  },
  "language_info": {
   "codemirror_mode": {
    "name": "ipython",
    "version": 3
   },
   "file_extension": ".py",
   "mimetype": "text/x-python",
   "name": "python",
   "nbconvert_exporter": "python",
   "pygments_lexer": "ipython3",
   "version": "3.10.10"
  }
 },
 "nbformat": 4,
 "nbformat_minor": 5
}
